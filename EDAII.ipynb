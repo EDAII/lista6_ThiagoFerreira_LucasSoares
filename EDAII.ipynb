{
 "cells": [
  {
   "cell_type": "markdown",
   "metadata": {},
   "source": [
    "# Lista 6 de Estruturas de Dados 2\n",
    "\n",
    "Essa lista é referente ao conteúdo de grafos da disciplina de estruturas de dados 2, será executado o processo de criação de um grafo, uma busca por profundidade e outra de largura no mesmo. "
   ]
  },
  {
   "attachments": {
    "image.png": {
     "image/png": "[encoded data removed]"
    }
   },
   "cell_type": "markdown",
   "metadata": {},
   "source": [
    "Faremos abaixo, a implementação do seguinte grafo:\n",
    "![image.png](attachment:image.png)\n",
    "O gráfico acima pode ser representado pela seguinte matriz de adjacência:"
   ]
  },
  {
   "cell_type": "code",
   "execution_count": 56,
   "metadata": {},
   "outputs": [],
   "source": [
    "graphEx = [\n",
    "    [], #Node 0, for convenience\n",
    "    [2,3], #Node 1\n",
    "    [8], #Node 2 \n",
    "    [4,5], #Node 3 \n",
    "    [], #Node 4\n",
    "    [6], #Node 5\n",
    "    [7,4], #Node 6 \n",
    "    [], #Node 7\n",
    "]\n"
   ]
  },
  {
   "cell_type": "markdown",
   "metadata": {},
   "source": [
    "### Classe Grafo e as funções correspondentes"
   ]
  },
  {
   "cell_type": "code",
   "execution_count": 61,
   "metadata": {},
   "outputs": [],
   "source": [
    "from collections import defaultdict\n",
    "class Graph:\n",
    "        \n",
    "    def __init__(self):\n",
    "        self.graph = defaultdict(list)\n",
    "        self.visited = defaultdict(list)\n",
    "        self.path = []\n",
    "\n",
    "\n",
    "        \n",
    "    \n",
    "    def addVertex(self,vertexName):\n",
    "        if vertexName not in self.graph.keys():\n",
    "            self.graph[vertexName] = []\n",
    "        else:\n",
    "            print('Node already exists')\n",
    "        \n",
    "            \n",
    "    def addEdge(self,vertex1,vertex2,bidirecional):\n",
    "        self.graph[vertex1].append(vertex2)\n",
    "        if bidirecional == True:\n",
    "            self.graph[vertex2].append(vertex1)\n",
    "            \n",
    "    def removeEdge(self, vertex1, vertex2, bidirecional):\n",
    "        if vertex2 in self.graph[vertex1]:\n",
    "            self.graph[vertex1].remove(vertex2)\n",
    "        if bidirecional == True:\n",
    "            if vertex1 in self.graph[vertex2]:\n",
    "                self.graph[vertex2].remove(vertex1)\n",
    "    \n",
    "    def removeVertex(self,vertex):\n",
    "        i=0\n",
    "        leng = len(self.graph[vertex])\n",
    "        count = 1\n",
    "        for i in self.graph[vertex]:\n",
    "            self.removeEdge(vertex,i,True)\n",
    "            if count == leng:\n",
    "                break;\n",
    "            else:\n",
    "                count+=1 \n",
    "        j=0\n",
    "        for j in self.graph[vertex]:\n",
    "            self.removeEdge(j,vertex,True)\n",
    "        self.graph.pop(6)\n",
    "     \n",
    "    def isEmpty(self):\n",
    "        if self.graph:\n",
    "            print('O gráfo, não está vazio.')\n",
    "        else:\n",
    "            print('O gráfo, está vazio.')\n",
    "            return True\n",
    "    \n",
    "    def dfsRecursive(self,vertex):\n",
    "        \n",
    "        self.visited[vertex]=True\n",
    "        print(vertex)\n",
    "\n",
    "            \n",
    "        for j in self.graph[vertex]:\n",
    "            if self.visited[j]==False:\n",
    "                self.dfsRecursive(j)\n",
    "  \n",
    "    def mav(self, node):\n",
    "        self.visited.append(node)\n",
    "    \n",
    "    def dfs(self,start):\n",
    "        self.visited = [False]*(len(self.graph))        \n",
    "        self.dfsRecursive(start)\n",
    "\n",
    "            \n",
    "        \n",
    "        \n",
    "        \n",
    "        "
   ]
  },
  {
   "cell_type": "markdown",
   "metadata": {},
   "source": [
    "A célula abaixo contém a criação do grafo mostrado no início do documento, desta forma, para criar-lo, faremos as seguintes operações abaixo: "
   ]
  },
  {
   "cell_type": "code",
   "execution_count": 70,
   "metadata": {},
   "outputs": [
    {
     "ename": "IndexError",
     "evalue": "list assignment index out of range",
     "output_type": "error",
     "traceback": [
      "\u001b[0;31m---------------------------------------------------------------------------\u001b[0m",
      "\u001b[0;31mIndexError\u001b[0m                                Traceback (most recent call last)",
      "\u001b[0;32m<ipython-input-70-da01ff366f93>\u001b[0m in \u001b[0;36m<module>\u001b[0;34m\u001b[0m\n\u001b[1;32m     23\u001b[0m \u001b[0mg1\u001b[0m\u001b[0;34m.\u001b[0m\u001b[0mremoveVertex\u001b[0m\u001b[0;34m(\u001b[0m\u001b[0;36m6\u001b[0m\u001b[0;34m)\u001b[0m\u001b[0;34m\u001b[0m\u001b[0;34m\u001b[0m\u001b[0m\n\u001b[1;32m     24\u001b[0m \u001b[0;34m\u001b[0m\u001b[0m\n\u001b[0;32m---> 25\u001b[0;31m \u001b[0mg1\u001b[0m\u001b[0;34m.\u001b[0m\u001b[0mdfs\u001b[0m\u001b[0;34m(\u001b[0m\u001b[0;36m7\u001b[0m\u001b[0;34m)\u001b[0m\u001b[0;34m\u001b[0m\u001b[0;34m\u001b[0m\u001b[0m\n\u001b[0m\u001b[1;32m     26\u001b[0m \u001b[0;34m\u001b[0m\u001b[0m\n\u001b[1;32m     27\u001b[0m \u001b[0mprint\u001b[0m \u001b[0;34m(\u001b[0m\u001b[0mg1\u001b[0m\u001b[0;34m.\u001b[0m\u001b[0mvisited\u001b[0m\u001b[0;34m)\u001b[0m\u001b[0;34m\u001b[0m\u001b[0;34m\u001b[0m\u001b[0m\n",
      "\u001b[0;32m<ipython-input-61-f7c050c3952d>\u001b[0m in \u001b[0;36mdfs\u001b[0;34m(self, start)\u001b[0m\n\u001b[1;32m     80\u001b[0m         \u001b[0msize\u001b[0m \u001b[0;34m=\u001b[0m \u001b[0mlen\u001b[0m\u001b[0;34m(\u001b[0m\u001b[0mself\u001b[0m\u001b[0;34m.\u001b[0m\u001b[0mgraph\u001b[0m\u001b[0;34m)\u001b[0m\u001b[0;34m\u001b[0m\u001b[0;34m\u001b[0m\u001b[0m\n\u001b[1;32m     81\u001b[0m         \u001b[0mself\u001b[0m\u001b[0;34m.\u001b[0m\u001b[0mvisited\u001b[0m \u001b[0;34m=\u001b[0m \u001b[0;34m[\u001b[0m\u001b[0;32mFalse\u001b[0m\u001b[0;34m]\u001b[0m\u001b[0;34m*\u001b[0m\u001b[0;34m(\u001b[0m\u001b[0mlen\u001b[0m\u001b[0;34m(\u001b[0m\u001b[0mself\u001b[0m\u001b[0;34m.\u001b[0m\u001b[0mgraph\u001b[0m\u001b[0;34m)\u001b[0m\u001b[0;34m)\u001b[0m\u001b[0;34m\u001b[0m\u001b[0;34m\u001b[0m\u001b[0m\n\u001b[0;32m---> 82\u001b[0;31m         \u001b[0mself\u001b[0m\u001b[0;34m.\u001b[0m\u001b[0mdfsRecursive\u001b[0m\u001b[0;34m(\u001b[0m\u001b[0mstart\u001b[0m\u001b[0;34m)\u001b[0m\u001b[0;34m\u001b[0m\u001b[0;34m\u001b[0m\u001b[0m\n\u001b[0m\u001b[1;32m     83\u001b[0m         \u001b[0;31m#         for i in range(size):\u001b[0m\u001b[0;34m\u001b[0m\u001b[0;34m\u001b[0m\u001b[0;34m\u001b[0m\u001b[0m\n\u001b[1;32m     84\u001b[0m \u001b[0;31m#             if self.visited[i] == False:\u001b[0m\u001b[0;34m\u001b[0m\u001b[0;34m\u001b[0m\u001b[0;34m\u001b[0m\u001b[0m\n",
      "\u001b[0;32m<ipython-input-61-f7c050c3952d>\u001b[0m in \u001b[0;36mdfsRecursive\u001b[0;34m(self, vertex)\u001b[0m\n\u001b[1;32m     53\u001b[0m     \u001b[0;32mdef\u001b[0m \u001b[0mdfsRecursive\u001b[0m\u001b[0;34m(\u001b[0m\u001b[0mself\u001b[0m\u001b[0;34m,\u001b[0m\u001b[0mvertex\u001b[0m\u001b[0;34m)\u001b[0m\u001b[0;34m:\u001b[0m\u001b[0;34m\u001b[0m\u001b[0;34m\u001b[0m\u001b[0m\n\u001b[1;32m     54\u001b[0m \u001b[0;34m\u001b[0m\u001b[0m\n\u001b[0;32m---> 55\u001b[0;31m         \u001b[0mself\u001b[0m\u001b[0;34m.\u001b[0m\u001b[0mvisited\u001b[0m\u001b[0;34m[\u001b[0m\u001b[0mvertex\u001b[0m\u001b[0;34m]\u001b[0m\u001b[0;34m=\u001b[0m\u001b[0;32mTrue\u001b[0m\u001b[0;34m\u001b[0m\u001b[0;34m\u001b[0m\u001b[0m\n\u001b[0m\u001b[1;32m     56\u001b[0m         \u001b[0mprint\u001b[0m\u001b[0;34m(\u001b[0m\u001b[0mvertex\u001b[0m\u001b[0;34m)\u001b[0m\u001b[0;34m\u001b[0m\u001b[0;34m\u001b[0m\u001b[0m\n\u001b[1;32m     57\u001b[0m \u001b[0;34m\u001b[0m\u001b[0m\n",
      "\u001b[0;31mIndexError\u001b[0m: list assignment index out of range"
     ]
    }
   ],
   "source": [
    "g1 = Graph()\n",
    "\n",
    "g1.addVertex(1)\n",
    "g1.addVertex(2)\n",
    "g1.addVertex(3)\n",
    "g1.addVertex(4)\n",
    "g1.addVertex(5)\n",
    "g1.addVertex(6)\n",
    "g1.addVertex(7)\n",
    "g1.addVertex(8)\n",
    "\n",
    "g1.addEdge(1,2,True)\n",
    "g1.addEdge(1,3,True)\n",
    "g1.addEdge(2,8,True)\n",
    "g1.addEdge(3,5,True)\n",
    "g1.addEdge(3,4,True)\n",
    "g1.addEdge(5,6,True)\n",
    "g1.addEdge(6,7,True)\n",
    "g1.addEdge(6,4,True)\n",
    "\n",
    "g1.removeEdge(1,2,True)\n",
    "\n",
    "g1.removeVertex(6)\n",
    "\n",
    "g1.dfs(7)\n",
    "\n",
    "print (g1.visited)"
   ]
  },
  {
   "cell_type": "code",
   "execution_count": null,
   "metadata": {},
   "outputs": [],
   "source": []
  },
  {
   "cell_type": "code",
   "execution_count": null,
   "metadata": {},
   "outputs": [],
   "source": []
  }
 ],
 "metadata": {
  "kernelspec": {
   "display_name": "Python 3",
   "language": "python",
   "name": "python3"
  },
  "language_info": {
   "codemirror_mode": {
    "name": "ipython",
    "version": 3
   },
   "file_extension": ".py",
   "mimetype": "text/x-python",
   "name": "python",
   "nbconvert_exporter": "python",
   "pygments_lexer": "ipython3",
   "version": "3.7.1"
  }
 },
 "nbformat": 4,
 "nbformat_minor": 2
}
